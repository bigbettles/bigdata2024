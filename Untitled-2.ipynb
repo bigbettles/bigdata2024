{
 "cells": [
  {
   "cell_type": "code",
   "execution_count": 6,
   "metadata": {},
   "outputs": [
    {
     "name": "stdout",
     "output_type": "stream",
     "text": [
      "{'uci_id': 936, 'name': 'National Poll on Healthy Aging (NPHA)', 'repository_url': 'https://archive.ics.uci.edu/dataset/936/national+poll+on+healthy+aging+(npha)', 'data_url': 'https://archive.ics.uci.edu/static/public/936/data.csv', 'abstract': 'This is a subset of the NPHA dataset filtered down to develop and validate machine learning algorithms for predicting the number of doctors a survey respondent sees in a year. This dataset’s records represent seniors who responded to the NPHA survey.\\n', 'area': 'Health and Medicine', 'tasks': ['Classification'], 'characteristics': ['Tabular'], 'num_instances': 714, 'num_features': 14, 'feature_types': ['Categorical'], 'demographics': ['Age', 'Race', 'Gender'], 'target_col': ['Number_of_Doctors_Visited'], 'index_col': None, 'has_missing_values': 'no', 'missing_values_symbol': None, 'year_of_dataset_creation': 2017, 'last_updated': 'Mon Dec 11 2023', 'dataset_doi': 'https://doi.org/10.3886/ICPSR37305.v1', 'creators': [], 'intro_paper': {'title': 'National Poll on Healthy Aging (NPHA)', 'authors': 'Malani, Preeti N., Kullgren, Jeffrey, and Solway, Erica', 'published_in': 'Inter-university Consortium for Political and Social Research', 'year': 2017, 'url': 'https://doi.org/10.3886/ICPSR37305.v1', 'doi': None}, 'additional_info': {'summary': None, 'purpose': 'The National Poll on Healthy Aging dataset was created to gather insights on the health, healthcare, and health policy issues affecting Americans aged 50 and older. By focusing on the perspectives of older adults and their caregivers, the University of Michigan aimed to inform the public, healthcare providers, policymakers, and advocates about the various aspects of aging. This includes topics like health insurance, household composition, sleep issues, dental care, prescription medications, and caregiving, thereby providing a comprehensive understanding of the health-related needs and concerns of the older population.', 'funded_by': \"The dataset was funded by AARP and Michigan Medicine, the University of Michigan's academic medical centre.\", 'instances_represent': 'Each row represents a survey respondent.\\n', 'recommended_data_splits': None, 'sensitive_data': 'Yes. There is information about race/ethnicity, gender, age.', 'preprocessing_description': 'For this subset of the original NPHA dataset we chose 14 features related to health and sleep to use for the prediction task. We then removed all survey respondents with missing responses for any of the chosen features.', 'variable_info': None, 'citation': 'Malani, Preeti N., Kullgren, Jeffrey, and Solway, Erica. National Poll on Healthy Aging (NPHA), [United States], April 2017. Inter-university Consortium for Political and Social Research [distributor], 2019-05-29. https://doi.org/10.3886/ICPSR37305.v1'}}\n",
      "                                          name     role         type  \\\n",
      "0                    Number_of_Doctors_Visited   Target  Categorical   \n",
      "1                                          Age  Feature  Categorical   \n",
      "2                              Physical_Health  Feature  Categorical   \n",
      "3                                Mental_Health  Feature  Categorical   \n",
      "4                                Dental_Health  Feature  Categorical   \n",
      "5                                   Employment  Feature  Categorical   \n",
      "6           Stress_Keeps_Patient_from_Sleeping  Feature  Categorical   \n",
      "7       Medication_Keeps_Patient_from_Sleeping  Feature  Categorical   \n",
      "8             Pain_Keeps_Patient_from_Sleeping  Feature  Categorical   \n",
      "9   Bathroom_Needs_Keeps_Patient_from_Sleeping  Feature  Categorical   \n",
      "10          Uknown_Keeps_Patient_from_Sleeping  Feature  Categorical   \n",
      "11                            Trouble_Sleeping  Feature  Categorical   \n",
      "12               Prescription_Sleep_Medication  Feature  Categorical   \n",
      "13                                        Race  Feature  Categorical   \n",
      "14                                      Gender  Feature  Categorical   \n",
      "\n",
      "   demographic                                        description units  \\\n",
      "0         None  The total count of different doctors the patie...  None   \n",
      "1          Age  The patient's age group = {\\n 1: 50-64\\n 2: 65...  None   \n",
      "2         None  A self-assessment of the patient's physical we...  None   \n",
      "3         None  A self-evaluation of the patient's mental or p...  None   \n",
      "4         None  A self-assessment of the patient's oral or den...  None   \n",
      "5         None  The patient's employment status or work-relate...  None   \n",
      "6         None  Whether stress affects the patient's ability t...  None   \n",
      "7         None  Whether medication impacts the patient's sleep...  None   \n",
      "8         None  Whether physical pain disturbs the patient's s...  None   \n",
      "9         None  Whether the need to use the bathroom affects t...  None   \n",
      "10        None  Unidentified factors affecting the patient's s...  None   \n",
      "11        None  General issues or difficulties the patient fac...  None   \n",
      "12        None  Information about any sleep medication prescri...  None   \n",
      "13        Race  The patient's racial or ethnic background = {\\...  None   \n",
      "14      Gender  The gender identity of the patient = {\\n -2: N...  None   \n",
      "\n",
      "   missing_values  \n",
      "0              no  \n",
      "1              no  \n",
      "2              no  \n",
      "3              no  \n",
      "4              no  \n",
      "5              no  \n",
      "6              no  \n",
      "7              no  \n",
      "8              no  \n",
      "9              no  \n",
      "10             no  \n",
      "11             no  \n",
      "12             no  \n",
      "13             no  \n",
      "14             no  \n"
     ]
    }
   ],
   "source": [
    "from ucimlrepo import fetch_ucirepo \n",
    "  \n",
    "# fetch dataset \n",
    "national_poll_on_healthy_aging_npha = fetch_ucirepo(id=936) \n",
    "  \n",
    "# data (as pandas dataframes) \n",
    "X = national_poll_on_healthy_aging_npha.data.features \n",
    "y = national_poll_on_healthy_aging_npha.data.targets \n",
    "  \n",
    "# metadata \n",
    "print(national_poll_on_healthy_aging_npha.metadata) \n",
    "  \n",
    "# variable information \n",
    "print(national_poll_on_healthy_aging_npha.variables) \n"
   ]
  },
  {
   "cell_type": "markdown",
   "metadata": {},
   "source": [
    "## SID:C110181102\n",
    "## Name:黃建程"
   ]
  }
 ],
 "metadata": {
  "kernelspec": {
   "display_name": "Python 3",
   "language": "python",
   "name": "python3"
  },
  "language_info": {
   "codemirror_mode": {
    "name": "ipython",
    "version": 3
   },
   "file_extension": ".py",
   "mimetype": "text/x-python",
   "name": "python",
   "nbconvert_exporter": "python",
   "pygments_lexer": "ipython3",
   "version": "3.11.8"
  }
 },
 "nbformat": 4,
 "nbformat_minor": 2
}
